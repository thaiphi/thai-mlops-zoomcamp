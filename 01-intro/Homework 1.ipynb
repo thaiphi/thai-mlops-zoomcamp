{
 "cells": [
  {
   "cell_type": "code",
   "execution_count": 3,
   "id": "fcc10ac1",
   "metadata": {},
   "outputs": [],
   "source": [
    "import pandas as pd\n",
    "import numpy as np"
   ]
  },
  {
   "cell_type": "code",
   "execution_count": 4,
   "id": "e531be34",
   "metadata": {},
   "outputs": [
    {
     "name": "stdout",
     "output_type": "stream",
     "text": [
      "Requirement already satisfied: pyarrow in /home/codespace/anaconda3/lib/python3.9/site-packages (16.1.0)\r\n",
      "Requirement already satisfied: numpy>=1.16.6 in /home/codespace/anaconda3/lib/python3.9/site-packages (from pyarrow) (1.21.5)\r\n"
     ]
    }
   ],
   "source": [
    "!pip install pyarrow\n"
   ]
  },
  {
   "cell_type": "code",
   "execution_count": 5,
   "id": "8ab19953",
   "metadata": {},
   "outputs": [],
   "source": [
    "\n",
    "df_january = pd.read_parquet('https://d37ci6vzurychx.cloudfront.net/trip-data/yellow_tripdata_2023-01.parquet')\n",
    "df_february = pd.read_parquet('https://d37ci6vzurychx.cloudfront.net/trip-data/yellow_tripdata_2023-02.parquet')"
   ]
  },
  {
   "cell_type": "code",
   "execution_count": 6,
   "id": "271d6d22",
   "metadata": {},
   "outputs": [
    {
     "data": {
      "text/plain": [
       "(19, 19)"
      ]
     },
     "execution_count": 6,
     "metadata": {},
     "output_type": "execute_result"
    }
   ],
   "source": [
    "# Display the number of columns for each month\n",
    "num_columns_january = len(df_january.columns)\n",
    "num_columns_february = len(df_february.columns)\n",
    "num_columns_january, num_columns_february"
   ]
  },
  {
   "cell_type": "code",
   "execution_count": 7,
   "id": "a1265cdc",
   "metadata": {},
   "outputs": [
    {
     "data": {
      "text/plain": [
       "42.594351241920904"
      ]
     },
     "execution_count": 7,
     "metadata": {},
     "output_type": "execute_result"
    }
   ],
   "source": [
    "# Convert pickup and dropoff times to datetime\n",
    "df_january['tpep_pickup_datetime'] = pd.to_datetime(df_january['tpep_pickup_datetime'])\n",
    "df_january['tpep_dropoff_datetime'] = pd.to_datetime(df_january['tpep_dropoff_datetime'])\n",
    "\n",
    "# Compute the duration in minutes\n",
    "df_january['duration'] = (df_january['tpep_dropoff_datetime'] - df_january['tpep_pickup_datetime']).dt.total_seconds() / 60\n",
    "\n",
    "# Calculate the standard deviation of the trip durations\n",
    "std_duration_january = df_january['duration'].std()\n",
    "std_duration_january"
   ]
  },
  {
   "cell_type": "code",
   "execution_count": 8,
   "id": "0dc2471a",
   "metadata": {},
   "outputs": [
    {
     "data": {
      "text/plain": [
       "0.9812202822125979"
      ]
     },
     "execution_count": 8,
     "metadata": {},
     "output_type": "execute_result"
    }
   ],
   "source": [
    "# Filter records with duration between 1 and 60 minutes (inclusive)\n",
    "filtered_df_january = df_january[(df_january['duration'] >= 1) & (df_january['duration'] <= 60)]\n",
    "\n",
    "# Calculate the fraction of records left\n",
    "fraction_left = len(filtered_df_january) / len(df_january)\n",
    "fraction_left"
   ]
  },
  {
   "cell_type": "code",
   "execution_count": 9,
   "id": "ea1ff90b",
   "metadata": {},
   "outputs": [
    {
     "name": "stderr",
     "output_type": "stream",
     "text": [
      "/tmp/ipykernel_75213/2103125816.py:2: SettingWithCopyWarning: \n",
      "A value is trying to be set on a copy of a slice from a DataFrame.\n",
      "Try using .loc[row_indexer,col_indexer] = value instead\n",
      "\n",
      "See the caveats in the documentation: https://pandas.pydata.org/pandas-docs/stable/user_guide/indexing.html#returning-a-view-versus-a-copy\n",
      "  filtered_df_january['PULocationID'] = filtered_df_january['PULocationID'].astype(str)\n",
      "/tmp/ipykernel_75213/2103125816.py:3: SettingWithCopyWarning: \n",
      "A value is trying to be set on a copy of a slice from a DataFrame.\n",
      "Try using .loc[row_indexer,col_indexer] = value instead\n",
      "\n",
      "See the caveats in the documentation: https://pandas.pydata.org/pandas-docs/stable/user_guide/indexing.html#returning-a-view-versus-a-copy\n",
      "  filtered_df_january['DOLocationID'] = filtered_df_january['DOLocationID'].astype(str)\n"
     ]
    }
   ],
   "source": [
    "# Convert location IDs to strings\n",
    "filtered_df_january['PULocationID'] = filtered_df_january['PULocationID'].astype(str)\n",
    "filtered_df_january['DOLocationID'] = filtered_df_january['DOLocationID'].astype(str)"
   ]
  },
  {
   "cell_type": "code",
   "execution_count": 10,
   "id": "3495556e",
   "metadata": {},
   "outputs": [],
   "source": [
    "from sklearn.preprocessing import OneHotEncoder\n",
    "from sklearn.linear_model import LinearRegression\n",
    "from sklearn.metrics import mean_squared_error"
   ]
  },
  {
   "cell_type": "code",
   "execution_count": 12,
   "id": "18ef032c",
   "metadata": {},
   "outputs": [],
   "source": [
    "# Select the relevant columns\n",
    "X_train = filtered_df_january[['PULocationID', 'DOLocationID']]\n",
    "y_train = filtered_df_january['duration']\n"
   ]
  },
  {
   "cell_type": "code",
   "execution_count": 19,
   "id": "5eca87ce",
   "metadata": {},
   "outputs": [
    {
     "data": {
      "text/plain": [
       "515"
      ]
     },
     "execution_count": 19,
     "metadata": {},
     "output_type": "execute_result"
    }
   ],
   "source": [
    "# Fit a OneHotEncoder\n",
    "ohe = OneHotEncoder(handle_unknown='ignore')\n",
    "X_train_encoded = ohe.fit_transform(X_train)\n",
    "# Get the dimensionality of the feature matrix\n",
    "dimensionality = X_train_encoded.shape[1]\n",
    "dimensionality"
   ]
  },
  {
   "cell_type": "code",
   "execution_count": 20,
   "id": "b1084283",
   "metadata": {},
   "outputs": [
    {
     "data": {
      "text/plain": [
       "7.649261027844195"
      ]
     },
     "execution_count": 20,
     "metadata": {},
     "output_type": "execute_result"
    }
   ],
   "source": [
    "# Prepare the target variable\n",
    "y = filtered_df_january['duration'].values\n",
    "\n",
    "# Train a linear regression model\n",
    "model = LinearRegression()\n",
    "model.fit(X_train_encoded, y)\n",
    "\n",
    "# Predict on the training data\n",
    "y_pred = model.predict(X_train_encoded)\n",
    "\n",
    "# Calculate the RMSE\n",
    "rmse = np.sqrt(mean_squared_error(y, y_pred))\n",
    "rmse"
   ]
  },
  {
   "cell_type": "code",
   "execution_count": 15,
   "id": "3be3c1e3",
   "metadata": {},
   "outputs": [
    {
     "name": "stderr",
     "output_type": "stream",
     "text": [
      "/tmp/ipykernel_75213/3027571160.py:12: SettingWithCopyWarning: \n",
      "A value is trying to be set on a copy of a slice from a DataFrame.\n",
      "Try using .loc[row_indexer,col_indexer] = value instead\n",
      "\n",
      "See the caveats in the documentation: https://pandas.pydata.org/pandas-docs/stable/user_guide/indexing.html#returning-a-view-versus-a-copy\n",
      "  filtered_df_february['PULocationID'] = filtered_df_february['PULocationID'].astype(str)\n",
      "/tmp/ipykernel_75213/3027571160.py:13: SettingWithCopyWarning: \n",
      "A value is trying to be set on a copy of a slice from a DataFrame.\n",
      "Try using .loc[row_indexer,col_indexer] = value instead\n",
      "\n",
      "See the caveats in the documentation: https://pandas.pydata.org/pandas-docs/stable/user_guide/indexing.html#returning-a-view-versus-a-copy\n",
      "  filtered_df_february['DOLocationID'] = filtered_df_february['DOLocationID'].astype(str)\n"
     ]
    }
   ],
   "source": [
    "# Convert pickup and dropoff times to datetime\n",
    "df_february['tpep_pickup_datetime'] = pd.to_datetime(df_february['tpep_pickup_datetime'])\n",
    "df_february['tpep_dropoff_datetime'] = pd.to_datetime(df_february['tpep_dropoff_datetime'])\n",
    "\n",
    "# Compute the duration in minutes\n",
    "df_february['duration'] = (df_february['tpep_dropoff_datetime'] - df_february['tpep_pickup_datetime']).dt.total_seconds() / 60\n",
    "\n",
    "# Filter records with duration between 1 and 60 minutes (inclusive)\n",
    "filtered_df_february = df_february[(df_february['duration'] >= 1) & (df_february['duration'] <= 60)]\n",
    "\n",
    "# Convert location IDs to strings\n",
    "filtered_df_february['PULocationID'] = filtered_df_february['PULocationID'].astype(str)\n",
    "filtered_df_february['DOLocationID'] = filtered_df_february['DOLocationID'].astype(str)\n"
   ]
  },
  {
   "cell_type": "code",
   "execution_count": 16,
   "id": "c3238c9b",
   "metadata": {},
   "outputs": [],
   "source": [
    "# Select the relevant columns\n",
    "X_val = filtered_df_february[['PULocationID', 'DOLocationID']]\n",
    "y_val = filtered_df_february['duration']"
   ]
  },
  {
   "cell_type": "code",
   "execution_count": 21,
   "id": "d9091ec7",
   "metadata": {},
   "outputs": [],
   "source": [
    "# Transform the validation data using the fitted OneHotEncoder\n",
    "\n",
    "X_val_encoded = ohe.transform(X_val)\n"
   ]
  },
  {
   "cell_type": "code",
   "execution_count": 22,
   "id": "cea48e7f",
   "metadata": {},
   "outputs": [
    {
     "data": {
      "text/plain": [
       "7.811832672340139"
      ]
     },
     "execution_count": 22,
     "metadata": {},
     "output_type": "execute_result"
    }
   ],
   "source": [
    "\n",
    "# Predict on the validation data\n",
    "y_pred_february = model.predict(X_val_encoded)\n",
    "\n",
    "# Calculate the RMSE for the validation data\n",
    "rmse_february = np.sqrt(mean_squared_error(y_val, y_pred_february))\n",
    "rmse_february"
   ]
  }
 ],
 "metadata": {
  "kernelspec": {
   "display_name": "Python 3 (ipykernel)",
   "language": "python",
   "name": "python3"
  },
  "language_info": {
   "codemirror_mode": {
    "name": "ipython",
    "version": 3
   },
   "file_extension": ".py",
   "mimetype": "text/x-python",
   "name": "python",
   "nbconvert_exporter": "python",
   "pygments_lexer": "ipython3",
   "version": "3.9.12"
  }
 },
 "nbformat": 4,
 "nbformat_minor": 5
}
